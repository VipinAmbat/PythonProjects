{
 "cells": [
  {
   "cell_type": "markdown",
   "id": "48d9a24f",
   "metadata": {},
   "source": [
    "# Program to input the data from user and execute the opertaion"
   ]
  },
  {
   "cell_type": "code",
   "execution_count": 3,
   "id": "cf164999",
   "metadata": {},
   "outputs": [
    {
     "name": "stdout",
     "output_type": "stream",
     "text": [
      "Please enter first number26\n",
      "Please enter second number108\n",
      "Calculated  value is 134\n"
     ]
    }
   ],
   "source": [
    " x=  int(input(\"Please enter first number\")) # input function to input a function\n",
    " y = int(input(\"Please enter second number\"))\n",
    "\n",
    " z= x+y\n",
    "    \n",
    "print(\"Calculated  value is\" ,z)"
   ]
  },
  {
   "cell_type": "code",
   "execution_count": 4,
   "id": "043ed9d8",
   "metadata": {},
   "outputs": [
    {
     "name": "stdout",
     "output_type": "stream",
     "text": [
      "Enter my name\n",
      "Vipin\n",
      "My name is \n",
      " Vipin\n"
     ]
    }
   ],
   "source": [
    "name = input(\"Enter my name\\n\") # program to write a string \n",
    "print(\"My name is \\n\" ,name)"
   ]
  },
  {
   "cell_type": "code",
   "execution_count": 5,
   "id": "82e4cec4",
   "metadata": {},
   "outputs": [
    {
     "name": "stdout",
     "output_type": "stream",
     "text": [
      "First letter of my name\n",
      " V\n"
     ]
    }
   ],
   "source": [
    "print(\"First letter of my name\\n\",name[0]) # Printing first letter of my name "
   ]
  },
  {
   "cell_type": "code",
   "execution_count": 6,
   "id": "6b4128d1",
   "metadata": {},
   "outputs": [
    {
     "name": "stdout",
     "output_type": "stream",
     "text": [
      "Pick the first charcater of my name Ambat\n",
      "First character is A\n"
     ]
    }
   ],
   "source": [
    "ch = input(\"Pick the first charcater of my name \")[0] # Program to check first character of a string\n",
    "print(\"First character is\", ch)"
   ]
  },
  {
   "cell_type": "code",
   "execution_count": 7,
   "id": "1264009d",
   "metadata": {},
   "outputs": [
    {
     "name": "stdout",
     "output_type": "stream",
     "text": [
      "Enter an experssion to evaluate7+2*3\n",
      "13\n"
     ]
    }
   ],
   "source": [
    "result = eval(input(\"Enter an experssion to evaluate\")) #Eval function to evaluate an expression\n",
    "print(result)"
   ]
  },
  {
   "cell_type": "code",
   "execution_count": null,
   "id": "8908aca9",
   "metadata": {},
   "outputs": [],
   "source": []
  }
 ],
 "metadata": {
  "kernelspec": {
   "display_name": "Python 3 (ipykernel)",
   "language": "python",
   "name": "python3"
  },
  "language_info": {
   "codemirror_mode": {
    "name": "ipython",
    "version": 3
   },
   "file_extension": ".py",
   "mimetype": "text/x-python",
   "name": "python",
   "nbconvert_exporter": "python",
   "pygments_lexer": "ipython3",
   "version": "3.7.11"
  }
 },
 "nbformat": 4,
 "nbformat_minor": 5
}
