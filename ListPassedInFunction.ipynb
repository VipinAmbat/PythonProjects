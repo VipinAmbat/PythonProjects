{
 "cells": [
  {
   "cell_type": "markdown",
   "id": "c701c19a",
   "metadata": {},
   "source": [
    "# Program to send list via function"
   ]
  },
  {
   "cell_type": "code",
   "execution_count": 4,
   "id": "774fb41c",
   "metadata": {},
   "outputs": [],
   "source": [
    "lst= [20,25,14,19,16,24,28,47,26]"
   ]
  },
  {
   "cell_type": "code",
   "execution_count": 5,
   "id": "43f38bb5",
   "metadata": {},
   "outputs": [],
   "source": [
    "def count(lst):\n",
    "    even = 0\n",
    "    odd=0\n",
    "    \n",
    "    for i in lst:\n",
    "        if i%2==0:\n",
    "            even+=1\n",
    "        else:\n",
    "            odd+=1\n",
    "            \n",
    "    return even,odd"
   ]
  },
  {
   "cell_type": "code",
   "execution_count": 6,
   "id": "f0fb6e6a",
   "metadata": {},
   "outputs": [],
   "source": [
    "even,odd=count(lst)"
   ]
  },
  {
   "cell_type": "code",
   "execution_count": 8,
   "id": "15daf4cc",
   "metadata": {},
   "outputs": [
    {
     "name": "stdout",
     "output_type": "stream",
     "text": [
      "Even :6 and odd:3\n"
     ]
    }
   ],
   "source": [
    "print(\"Even :{} and odd:{}\".format(even,odd))\n"
   ]
  },
  {
   "cell_type": "code",
   "execution_count": 9,
   "id": "f5055aa7",
   "metadata": {},
   "outputs": [],
   "source": [
    "namelst=[\"Saho\",\"majnu\",\"Richard\",\"Van Huesen\",\"Sharmila\",\"Viky\"]"
   ]
  },
  {
   "cell_type": "code",
   "execution_count": 10,
   "id": "d878d8eb",
   "metadata": {},
   "outputs": [],
   "source": [
    "def count(namelst):\n",
    "    \n",
    "    Shortnames=0\n",
    "    Longnames=0\n",
    "    \n",
    "    for i in namelst:\n",
    "        if len(i)<5:\n",
    "            Shortnames=Shortnames+1\n",
    "        else:\n",
    "            Longnames=Longnames+1\n",
    "            \n",
    "    return Shortnames,Longnames"
   ]
  },
  {
   "cell_type": "code",
   "execution_count": 11,
   "id": "2c6e7ac3",
   "metadata": {},
   "outputs": [],
   "source": [
    "S,L=count(namelst)"
   ]
  },
  {
   "cell_type": "code",
   "execution_count": 13,
   "id": "44db0f00",
   "metadata": {},
   "outputs": [
    {
     "name": "stdout",
     "output_type": "stream",
     "text": [
      "Names less than 4 charcaters are 2 and names greater than 4 characters are 4\n"
     ]
    }
   ],
   "source": [
    "print(\"Names less than 4 charcaters are {} and names greater than 4 characters are {}\".format(S,L))"
   ]
  },
  {
   "cell_type": "code",
   "execution_count": null,
   "id": "b1179058",
   "metadata": {},
   "outputs": [],
   "source": []
  }
 ],
 "metadata": {
  "kernelspec": {
   "display_name": "Python 3 (ipykernel)",
   "language": "python",
   "name": "python3"
  },
  "language_info": {
   "codemirror_mode": {
    "name": "ipython",
    "version": 3
   },
   "file_extension": ".py",
   "mimetype": "text/x-python",
   "name": "python",
   "nbconvert_exporter": "python",
   "pygments_lexer": "ipython3",
   "version": "3.7.11"
  }
 },
 "nbformat": 4,
 "nbformat_minor": 5
}
