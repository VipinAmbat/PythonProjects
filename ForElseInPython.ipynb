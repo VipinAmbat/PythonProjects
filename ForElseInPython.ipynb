{
 "cells": [
  {
   "cell_type": "markdown",
   "id": "69934532",
   "metadata": {},
   "source": [
    "# program to demonstarte use of For Else"
   ]
  },
  {
   "cell_type": "code",
   "execution_count": null,
   "id": "70daa7fa",
   "metadata": {},
   "outputs": [],
   "source": [
    "nums = [11,12,13,14,18]\n",
    "\n",
    "for i in nums:\n",
    "    if i%5 == 0:\n",
    "        print(f\"Number {i} divisible by 5\")\n",
    "        break\n",
    "else:\n",
    "    print(\"Not found\")\n",
    "        "
   ]
  },
  {
   "cell_type": "code",
   "execution_count": null,
   "id": "f6419b45",
   "metadata": {},
   "outputs": [],
   "source": []
  }
 ],
 "metadata": {
  "kernelspec": {
   "display_name": "Python 3 (ipykernel)",
   "language": "python",
   "name": "python3"
  },
  "language_info": {
   "codemirror_mode": {
    "name": "ipython",
    "version": 3
   },
   "file_extension": ".py",
   "mimetype": "text/x-python",
   "name": "python",
   "nbconvert_exporter": "python",
   "pygments_lexer": "ipython3",
   "version": "3.7.11"
  }
 },
 "nbformat": 4,
 "nbformat_minor": 5
}
