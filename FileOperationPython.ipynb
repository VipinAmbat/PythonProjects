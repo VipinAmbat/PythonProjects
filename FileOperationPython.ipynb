{
 "cells": [
  {
   "cell_type": "markdown",
   "id": "2b04b693",
   "metadata": {},
   "source": [
    "# Program to work on File"
   ]
  },
  {
   "cell_type": "code",
   "execution_count": 22,
   "id": "d5385ea1",
   "metadata": {},
   "outputs": [],
   "source": [
    "myfile = open(\"textfile.txt\",\"w+\")"
   ]
  },
  {
   "cell_type": "code",
   "execution_count": 23,
   "id": "cae386e0",
   "metadata": {},
   "outputs": [],
   "source": [
    "for i in range(10):\n",
    "    myfile.write(\" This is a new text file\")"
   ]
  },
  {
   "cell_type": "code",
   "execution_count": 24,
   "id": "4a8e061b",
   "metadata": {},
   "outputs": [],
   "source": [
    "myfile.close()"
   ]
  },
  {
   "cell_type": "code",
   "execution_count": 25,
   "id": "dec3a81f",
   "metadata": {},
   "outputs": [],
   "source": [
    "myfile = open(\"textfile.txt\",\"r\")"
   ]
  },
  {
   "cell_type": "code",
   "execution_count": 26,
   "id": "ab58057a",
   "metadata": {},
   "outputs": [
    {
     "name": "stdout",
     "output_type": "stream",
     "text": [
      " This is a new text file This is a new text file This is a new text file This is a new text file This is a new text file This is a new text file This is a new text file This is a new text file This is a new text file This is a new text file\n"
     ]
    }
   ],
   "source": [
    "if myfile.mode=='r':\n",
    "    #contents=myfile.read()\n",
    "    #print(contents)\n",
    "    f1 = myfile.readlines()\n",
    "    for x in f1:\n",
    "        print(x)"
   ]
  },
  {
   "cell_type": "code",
   "execution_count": null,
   "id": "31b2884b",
   "metadata": {},
   "outputs": [],
   "source": []
  }
 ],
 "metadata": {
  "kernelspec": {
   "display_name": "Python 3 (ipykernel)",
   "language": "python",
   "name": "python3"
  },
  "language_info": {
   "codemirror_mode": {
    "name": "ipython",
    "version": 3
   },
   "file_extension": ".py",
   "mimetype": "text/x-python",
   "name": "python",
   "nbconvert_exporter": "python",
   "pygments_lexer": "ipython3",
   "version": "3.7.11"
  }
 },
 "nbformat": 4,
 "nbformat_minor": 5
}
