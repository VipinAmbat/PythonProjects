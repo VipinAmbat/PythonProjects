{
 "cells": [
  {
   "cell_type": "code",
   "execution_count": 4,
   "id": "ba198a11",
   "metadata": {},
   "outputs": [],
   "source": [
    "import threading # import thread and time library\n",
    "\n",
    "import time\n"
   ]
  },
  {
   "cell_type": "code",
   "execution_count": 5,
   "id": "b2ec424e",
   "metadata": {},
   "outputs": [
    {
     "name": "stdout",
     "output_type": "stream",
     "text": [
      "Cube:1000\n",
      "Cube:1000\n",
      "Done! Great job\n"
     ]
    }
   ],
   "source": [
    "def print_cube(num): # square the number\n",
    "    \n",
    "    print(\"Cube:{}\".format(num*num*num))\n",
    "    \n",
    "def print_square(num):\n",
    "    \n",
    "    print(\"Suqare:{}\".format(num*num)) # square the number\n",
    "    \n",
    "\n",
    "\n",
    "if __name__ == \"__main__\":\n",
    "    #creating a thread\n",
    "    \n",
    "    t1 = threading.Thread(target=print_cube,args=(10,))\n",
    "    t2 = threading.Thread(target=print_cube,args=(10,))\n",
    "    \n",
    "    # start a thread 1\n",
    "    \n",
    "    t1.start()\n",
    "    time.sleep(2)\n",
    "    \n",
    "    # start a thread 2\n",
    "    \n",
    "    t2.start()\n",
    "    \n",
    "    \n",
    "    # wait for thread one to stop\n",
    "    \n",
    "    t1.join()\n",
    "    time.sleep(2)\n",
    "    \n",
    "    \n",
    "    #wait for the thread two to stop\n",
    "    \n",
    "    t2.join()\n",
    "    \n",
    "    \n",
    "    print(\"Done! Great job\")\n",
    "    \n",
    "    \n",
    "    "
   ]
  },
  {
   "cell_type": "code",
   "execution_count": null,
   "id": "d6553944",
   "metadata": {},
   "outputs": [],
   "source": []
  }
 ],
 "metadata": {
  "kernelspec": {
   "display_name": "Python 3 (ipykernel)",
   "language": "python",
   "name": "python3"
  },
  "language_info": {
   "codemirror_mode": {
    "name": "ipython",
    "version": 3
   },
   "file_extension": ".py",
   "mimetype": "text/x-python",
   "name": "python",
   "nbconvert_exporter": "python",
   "pygments_lexer": "ipython3",
   "version": "3.7.11"
  }
 },
 "nbformat": 4,
 "nbformat_minor": 5
}
