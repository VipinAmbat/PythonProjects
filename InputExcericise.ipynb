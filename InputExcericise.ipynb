{
 "cells": [
  {
   "cell_type": "markdown",
   "id": "5697c168",
   "metadata": {},
   "source": [
    "# Program Excercise on Input function"
   ]
  },
  {
   "cell_type": "code",
   "execution_count": 9,
   "id": "fe2108b1",
   "metadata": {},
   "outputs": [
    {
     "name": "stdout",
     "output_type": "stream",
     "text": [
      "Please enter a name\n",
      "\n",
      "Naveen\n",
      "Please enter the age\n",
      "\n",
      "76\n",
      "The name entered is Naveen and age of the person is 76 years old\n"
     ]
    }
   ],
   "source": [
    "#program to get user name and age\n",
    "\n",
    "print(\"Please enter a name\\n\")\n",
    "usrname = input()\n",
    "print(\"Please enter the age\\n\")\n",
    "age = int(input())\n",
    "print(f\"The name entered is {usrname} and age of the person is {age} years old\")"
   ]
  },
  {
   "cell_type": "code",
   "execution_count": null,
   "id": "90cd45c7",
   "metadata": {},
   "outputs": [],
   "source": []
  }
 ],
 "metadata": {
  "kernelspec": {
   "display_name": "Python 3 (ipykernel)",
   "language": "python",
   "name": "python3"
  },
  "language_info": {
   "codemirror_mode": {
    "name": "ipython",
    "version": 3
   },
   "file_extension": ".py",
   "mimetype": "text/x-python",
   "name": "python",
   "nbconvert_exporter": "python",
   "pygments_lexer": "ipython3",
   "version": "3.7.11"
  }
 },
 "nbformat": 4,
 "nbformat_minor": 5
}
