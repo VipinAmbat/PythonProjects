{
 "cells": [
  {
   "cell_type": "code",
   "execution_count": null,
   "id": "7e209c7b",
   "metadata": {},
   "outputs": [],
   "source": [
    "# Another example for multi-threading"
   ]
  },
  {
   "cell_type": "code",
   "execution_count": 2,
   "id": "48dd6e6a",
   "metadata": {},
   "outputs": [],
   "source": [
    "import threading\n",
    "\n",
    "import time"
   ]
  },
  {
   "cell_type": "code",
   "execution_count": 12,
   "id": "b2b7b38e",
   "metadata": {},
   "outputs": [
    {
     "name": "stdout",
     "output_type": "stream",
     "text": [
      "0 1 1 2 3 Sum of numbers 30\n",
      "Time taken for whole execution 0.009973764419555664\n"
     ]
    }
   ],
   "source": [
    "def print_fibonnaci(num):\n",
    "    \n",
    "    num1 = 0\n",
    "    num2 = 1\n",
    "    series = 0\n",
    "    for i in range(num):\n",
    "        print(series, end=' ');\n",
    "        num1 = num2;\n",
    "        num2 = series;\n",
    "        series = num1 + num2;\n",
    "\n",
    "def print_sum(a,b):\n",
    "    \n",
    "    sum = a+b\n",
    "    print(\"Sum of numbers\",sum)\n",
    "    \n",
    "    \n",
    "t= time.time()\n",
    "\n",
    "t1 = threading.Thread(target=print_fibonnaci,args=(5,))\n",
    "\n",
    "t2= threading.Thread(target=print_sum,args=(10,20))\n",
    "\n",
    "t1.start()\n",
    "\n",
    "\n",
    "t2.start()\n",
    "\n",
    "t1.join()\n",
    "\n",
    "t2.join()\n",
    "\n",
    "print(\"Time taken for whole execution\",time.time()-t)\n",
    "\n"
   ]
  },
  {
   "cell_type": "code",
   "execution_count": null,
   "id": "78723593",
   "metadata": {},
   "outputs": [],
   "source": []
  }
 ],
 "metadata": {
  "kernelspec": {
   "display_name": "Python 3 (ipykernel)",
   "language": "python",
   "name": "python3"
  },
  "language_info": {
   "codemirror_mode": {
    "name": "ipython",
    "version": 3
   },
   "file_extension": ".py",
   "mimetype": "text/x-python",
   "name": "python",
   "nbconvert_exporter": "python",
   "pygments_lexer": "ipython3",
   "version": "3.7.11"
  }
 },
 "nbformat": 4,
 "nbformat_minor": 5
}
