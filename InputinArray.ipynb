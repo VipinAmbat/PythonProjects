{
 "cells": [
  {
   "cell_type": "markdown",
   "id": "05a6b147",
   "metadata": {},
   "source": [
    "# Create an array from user input\n",
    "\n"
   ]
  },
  {
   "cell_type": "code",
   "execution_count": 1,
   "id": "eefd2d13",
   "metadata": {},
   "outputs": [],
   "source": [
    "from array import *\n",
    "\n",
    "arr = array('i',[]) #create an empty "
   ]
  },
  {
   "cell_type": "code",
   "execution_count": 2,
   "id": "b3866d82",
   "metadata": {},
   "outputs": [
    {
     "name": "stdout",
     "output_type": "stream",
     "text": [
      "Enter the lenth of the array5\n"
     ]
    }
   ],
   "source": [
    "n = int(input(\"Enter the lenth of the array\"))"
   ]
  },
  {
   "cell_type": "code",
   "execution_count": 4,
   "id": "afb293f7",
   "metadata": {},
   "outputs": [
    {
     "name": "stdout",
     "output_type": "stream",
     "text": [
      "Enter the next value of the array26\n",
      "Enter the next value of the array56\n",
      "Enter the next value of the array32\n",
      "Enter the next value of the array24\n",
      "Enter the next value of the array12\n",
      "array('i', [26, 56, 32, 24, 12])\n"
     ]
    }
   ],
   "source": [
    "for i in range(n):\n",
    "    x= int(input(\"Enter the next value of the array\"))\n",
    "    arr.append(x)\n",
    "    \n",
    "    \n",
    "print(arr)"
   ]
  },
  {
   "cell_type": "code",
   "execution_count": null,
   "id": "3da34250",
   "metadata": {},
   "outputs": [],
   "source": []
  }
 ],
 "metadata": {
  "kernelspec": {
   "display_name": "Python 3 (ipykernel)",
   "language": "python",
   "name": "python3"
  },
  "language_info": {
   "codemirror_mode": {
    "name": "ipython",
    "version": 3
   },
   "file_extension": ".py",
   "mimetype": "text/x-python",
   "name": "python",
   "nbconvert_exporter": "python",
   "pygments_lexer": "ipython3",
   "version": "3.7.11"
  }
 },
 "nbformat": 4,
 "nbformat_minor": 5
}
