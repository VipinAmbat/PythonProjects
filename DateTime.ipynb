{
 "cells": [
  {
   "cell_type": "code",
   "execution_count": 12,
   "id": "8137acd0",
   "metadata": {},
   "outputs": [
    {
     "name": "stdout",
     "output_type": "stream",
     "text": [
      "Current date and time is  2022-01-20 21:02:46.609474\n",
      "Current date is  2022-01-20\n",
      "The day is 20\n",
      "The month is 1\n",
      "The year is 2022\n"
     ]
    }
   ],
   "source": [
    "import datetime as dt\n",
    "\n",
    "datetime1 = dt.datetime.now()\n",
    "print(\"Current date and time is \",datetime1)\n",
    "\n",
    "datetime2 = dt.date.today()\n",
    "print(\"Current date is \",datetime2)\n",
    "\n",
    "print(\"The day is\", datetime2.day)\n",
    "print(\"The month is\", datetime2.month)\n",
    "print(\"The year is\", datetime2.year)\n",
    "\n"
   ]
  },
  {
   "cell_type": "code",
   "execution_count": null,
   "id": "b71c87e6",
   "metadata": {},
   "outputs": [],
   "source": []
  }
 ],
 "metadata": {
  "kernelspec": {
   "display_name": "Python 3 (ipykernel)",
   "language": "python",
   "name": "python3"
  },
  "language_info": {
   "codemirror_mode": {
    "name": "ipython",
    "version": 3
   },
   "file_extension": ".py",
   "mimetype": "text/x-python",
   "name": "python",
   "nbconvert_exporter": "python",
   "pygments_lexer": "ipython3",
   "version": "3.7.11"
  }
 },
 "nbformat": 4,
 "nbformat_minor": 5
}
